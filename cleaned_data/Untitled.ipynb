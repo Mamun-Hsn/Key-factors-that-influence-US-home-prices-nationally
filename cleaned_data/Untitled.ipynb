{
 "cells": [
  {
   "cell_type": "code",
   "execution_count": 5,
   "id": "fba1a965",
   "metadata": {},
   "outputs": [],
   "source": [
    "import pandas as pd\n",
    "import os"
   ]
  },
  {
   "cell_type": "code",
   "execution_count": 6,
   "id": "85aaabab",
   "metadata": {},
   "outputs": [],
   "source": [
    "files = ['average_exp_25 to 34.csv',\n",
    " 'average_exp_35 to 44.csv',\n",
    " 'average_exp_45 to 54.csv',\n",
    " 'average_exp_65 to 74.csv',\n",
    " 'consumer_price_index.csv',\n",
    " 'employees_construction.csv',\n",
    " 'GDP.csv',\n",
    " 'houses_for_sale_to_houses_sold.csv',\n",
    " 'industrial_production.csv',\n",
    " 'MORTGAGE30US.csv',\n",
    " 'new_privately_owned_housing_under_construction.csv',\n",
    " 'privately_owned_housing_units_completed.csv',\n",
    " 'producer_price_index_concrete_brick.csv',\n",
    " 'Unemployment rate.csv',\n",
    " 'unrate_construction.csv',\n",
    " 'Population.csv',\n",
    " 'target.csv']"
   ]
  },
  {
   "cell_type": "code",
   "execution_count": 2,
   "id": "8c5947cd",
   "metadata": {},
   "outputs": [
    {
     "ename": "NameError",
     "evalue": "name 'pd' is not defined",
     "output_type": "error",
     "traceback": [
      "\u001b[1;31m---------------------------------------------------------------------------\u001b[0m",
      "\u001b[1;31mNameError\u001b[0m                                 Traceback (most recent call last)",
      "Cell \u001b[1;32mIn[2], line 1\u001b[0m\n\u001b[1;32m----> 1\u001b[0m df \u001b[38;5;241m=\u001b[39m \u001b[43mpd\u001b[49m\u001b[38;5;241m.\u001b[39mDataFrame()\n\u001b[0;32m      3\u001b[0m \u001b[38;5;28;01mfor\u001b[39;00m filename \u001b[38;5;129;01min\u001b[39;00m files:\n\u001b[0;32m      4\u001b[0m     tdf \u001b[38;5;241m=\u001b[39m pd\u001b[38;5;241m.\u001b[39mread_csv(file)\n",
      "\u001b[1;31mNameError\u001b[0m: name 'pd' is not defined"
     ]
    }
   ],
   "source": [
    "df = pd.DataFrame()\n",
    "\n",
    "for filename in files:\n",
    "    tdf = pd.read_csv(file)\n",
    "    \n",
    "    \n",
    "    \n",
    "# final_df = pd.DataFrame(df_dict,monthly_rng)\n",
    "# print(df_dict)\n",
    "\n",
    "print(df)"
   ]
  },
  {
   "cell_type": "code",
   "execution_count": 7,
   "id": "f39c261a",
   "metadata": {},
   "outputs": [],
   "source": [
    "merged_df = pd.DataFrame()\n",
    "\n",
    "for filename in files:\n",
    "    df = pd.read_csv(filename)\n",
    "    if merged_df.empty:\n",
    "        merged_df = df\n",
    "    else:\n",
    "        merged_df = pd.merge(merged_df, df, on='DATE', how='outer')\n",
    "merged_df.to_csv(\"final_df.csv\")\n",
    "# merged_df\n"
   ]
  },
  {
   "cell_type": "code",
   "execution_count": 8,
   "id": "603c10fd",
   "metadata": {},
   "outputs": [
    {
     "data": {
      "text/plain": [
       "Index(['DATE', 'Average expenditure 25 - 34', 'Average expenditure 35 - 44',\n",
       "       'Average expenditure 45 - 54', 'Average expenditure 65 - 74', 'CPI',\n",
       "       'Employees Construction', 'GDP', 'House for sale to sold',\n",
       "       'Industrial production', 'Mortgage', 'Price house under Construction',\n",
       "       'Private owned house ', 'PPI', 'Unemployment Rate ',\n",
       "       'Unemployment construction', 'Population', 'target'],\n",
       "      dtype='object')"
      ]
     },
     "execution_count": 8,
     "metadata": {},
     "output_type": "execute_result"
    }
   ],
   "source": [
    "merged_df.columns"
   ]
  },
  {
   "cell_type": "code",
   "execution_count": null,
   "id": "fa4654f3",
   "metadata": {},
   "outputs": [],
   "source": []
  }
 ],
 "metadata": {
  "kernelspec": {
   "display_name": "Python 3 (ipykernel)",
   "language": "python",
   "name": "python3"
  },
  "language_info": {
   "codemirror_mode": {
    "name": "ipython",
    "version": 3
   },
   "file_extension": ".py",
   "mimetype": "text/x-python",
   "name": "python",
   "nbconvert_exporter": "python",
   "pygments_lexer": "ipython3",
   "version": "3.11.1"
  }
 },
 "nbformat": 4,
 "nbformat_minor": 5
}
