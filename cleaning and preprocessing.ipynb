{
 "cells": [
  {
   "cell_type": "code",
   "execution_count": 36,
   "id": "79f2aae0",
   "metadata": {},
   "outputs": [],
   "source": [
    "import os\n",
    "import pandas as pd\n",
    "import seaborn as sns\n",
    "import warnings\n",
    "warnings.filterwarnings(\"ignore\")"
   ]
  },
  {
   "cell_type": "code",
   "execution_count": 4,
   "id": "6acd65f2",
   "metadata": {},
   "outputs": [],
   "source": [
    "monthly_rng = pd.date_range(\"01-2003\",\"07-2023\", freq = \"M\")\n",
    "\n",
    "def annual_monthly(annual_values,index_for_new_df,digits = 2):\n",
    "    monthly_values = []\n",
    "    for i in range(1,len(annual_values)):\n",
    "        annual_change = annual_values[i] - annual_values[i-1];\n",
    "        monthly_change = round(annual_change/12,digits)\n",
    "        prev_value = annual_values[i-1]\n",
    "        for j in range(12):\n",
    "            monthly_values.append(prev_value+monthly_change)\n",
    "            prev_value = prev_value + monthly_change\n",
    "         \n",
    "    return pd.DataFrame(monthly_values,index=index_for_new_df)\n",
    "\n",
    "\n",
    "def quaterly_monthly(quaterly_values,index_for_new_df,digits = 2):\n",
    "    monthly_values = []\n",
    "    for i in range(1,len(quaterly_values)):\n",
    "        quaterly_change = quaterly_values[i] - quaterly_values[i-1]\n",
    "        monthly_change = round(quaterly_change/3,digits)\n",
    "        tchange = [quaterly_values[i-1] + monthly_change*k for k in range(3) ]   \n",
    "        monthly_values.extend(tchange)\n",
    "\n",
    "    return pd.DataFrame(monthly_values,index=index_for_new_df)\n"
   ]
  },
  {
   "cell_type": "markdown",
   "id": "a58bcaf2",
   "metadata": {},
   "source": [
    "#### Average expenditure "
   ]
  },
  {
   "cell_type": "code",
   "execution_count": 202,
   "id": "12f26945",
   "metadata": {
    "collapsed": true
   },
   "outputs": [
    {
     "name": "stderr",
     "output_type": "stream",
     "text": [
      "C:\\Users\\RoshA\\AppData\\Local\\Temp\\ipykernel_4000\\144078285.py:5: UserWarning: Pandas doesn't allow columns to be created via a new attribute name - see https://pandas.pydata.org/pandas-docs/stable/indexing.html#attribute-access\n",
      "  tdf.Year = pd.to_datetime(tdf['YEAR'],format=\"%Y\")\n"
     ]
    }
   ],
   "source": [
    "data = pd.read_csv(f\"./datas/average_exp_25 to 34.csv\")\n",
    "data = data[[\"YEAR\",\"VALUE\"]]\n",
    "data.Year = pd.to_datetime(data['YEAR'],format=\"%Y\")\n",
    "data = annual_monthly(data[\"VALUE\"],monthly_rng,0)\n",
    "data.rename(columns = {0:\"avg_expenditure_25_34\"},inplace=True)\n",
    "data.index = data.index.strftime(\"%Y-%m\")\n",
    "data.to_csv(\"./cleaned_data/average_exp_25 to 34.csv\",index=True)"
   ]
  },
  {
   "cell_type": "code",
   "execution_count": 187,
   "id": "a9565ab3",
   "metadata": {
    "collapsed": true
   },
   "outputs": [
    {
     "name": "stderr",
     "output_type": "stream",
     "text": [
      "C:\\Users\\RoshA\\AppData\\Local\\Temp\\ipykernel_4000\\2566131976.py:5: UserWarning: Pandas doesn't allow columns to be created via a new attribute name - see https://pandas.pydata.org/pandas-docs/stable/indexing.html#attribute-access\n",
      "  tdf.Year = pd.to_datetime(tdf['YEAR'],format=\"%Y\")\n"
     ]
    }
   ],
   "source": [
    "data = pd.read_csv(f\"./datas/average_exp_35 to 44.csv\")\n",
    "data = data[[\"YEAR\",\"VALUE\"]]\n",
    "data.Year = pd.to_datetime(data['YEAR'],format=\"%Y\")\n",
    "data = annual_monthly(data[\"VALUE\"],monthly_rng,0)\n",
    "data.rename(columns = {0:\"avg_expenditure_35_44\"},inplace=True)\n",
    "data.index = data.index.strftime(\"%Y-%m\")\n",
    "data.to_csv(\"./cleaned_data/average_exp_35 to 44.csv\",index=True)"
   ]
  },
  {
   "cell_type": "code",
   "execution_count": 188,
   "id": "ef242e2a",
   "metadata": {
    "collapsed": true
   },
   "outputs": [
    {
     "name": "stderr",
     "output_type": "stream",
     "text": [
      "C:\\Users\\RoshA\\AppData\\Local\\Temp\\ipykernel_4000\\2931172882.py:5: UserWarning: Pandas doesn't allow columns to be created via a new attribute name - see https://pandas.pydata.org/pandas-docs/stable/indexing.html#attribute-access\n",
      "  tdf.Year = pd.to_datetime(tdf['YEAR'],format=\"%Y\")\n"
     ]
    }
   ],
   "source": [
    "data = pd.read_csv(f\"./datas/average_exp_45 to 54.csv\")\n",
    "data = data[[\"YEAR\",\"VALUE\"]]\n",
    "data.Year = pd.to_datetime(data['YEAR'],format=\"%Y\")\n",
    "data = annual_monthly(data[\"VALUE\"],monthly_rng,0)\n",
    "data.rename(columns = {0:\"avg_expenditure_45_54\"},inplace=True)\n",
    "data.index = data.index.strftime(\"%Y-%m\")\n",
    "data.to_csv(\"./cleaned_data/average_exp_45 to 54.csv\",index=True)"
   ]
  },
  {
   "cell_type": "code",
   "execution_count": 189,
   "id": "5d3c6b16",
   "metadata": {
    "collapsed": true
   },
   "outputs": [
    {
     "name": "stderr",
     "output_type": "stream",
     "text": [
      "C:\\Users\\RoshA\\AppData\\Local\\Temp\\ipykernel_4000\\306441668.py:5: UserWarning: Pandas doesn't allow columns to be created via a new attribute name - see https://pandas.pydata.org/pandas-docs/stable/indexing.html#attribute-access\n",
      "  tdf.Year = pd.to_datetime(tdf['YEAR'],format=\"%Y\")\n"
     ]
    }
   ],
   "source": [
    "data = pd.read_csv(f\"./datas/average_exp_65 to 74.csv\")\n",
    "data = data[[\"YEAR\",\"VALUE\"]]\n",
    "\n",
    "data.Year = pd.to_datetime(data['YEAR'],format=\"%Y\")\n",
    "\n",
    "\n",
    "data = annual_monthly(data[\"VALUE\"],monthly_rng,0)\n",
    "\n",
    "data.rename(columns = {0:\"avg_expenditure_65_74\"},inplace=True)\n",
    "data.index = data.index.strftime(\"%Y-%m\")\n",
    "\n",
    "data.to_csv(\"./cleaned_data/average_exp_65 to 74.csv\",index=True)"
   ]
  },
  {
   "cell_type": "markdown",
   "id": "cdc4de76",
   "metadata": {},
   "source": [
    "#### Consumer Price Index"
   ]
  },
  {
   "cell_type": "code",
   "execution_count": 59,
   "id": "3d1a2828",
   "metadata": {},
   "outputs": [],
   "source": [
    "cpi_data = pd.read_excel(\"./datas/Consumer Price index.xlsx\")\n",
    "\n",
    "cpi_data.DATE = pd.to_datetime(cpi_data.DATE,format=\"%d-%m-%Y\")\n",
    "cpi_data.DATE = cpi_data.DATE.dt.strftime('%Y-%m')\n",
    "cpi_data.set_index(cpi_data.DATE,drop=True,inplace=True)\n",
    "cpi_data.drop(columns={\"DATE\"},inplace=True)\n",
    "cpi_data = cpi_data[\"2003-01\":\"2023-12\"]\n",
    "cpi_data.to_csv(\"./cleaned_data/consumer_price_index.csv\")"
   ]
  },
  {
   "cell_type": "markdown",
   "id": "cfccf99b",
   "metadata": {},
   "source": [
    "#### Employee construction"
   ]
  },
  {
   "cell_type": "code",
   "execution_count": 72,
   "id": "fa441ed7",
   "metadata": {},
   "outputs": [],
   "source": [
    "ec_data = pd.read_csv(\"./datas/Employees Construction.csv\")\n",
    "ec_data.DATE = pd.to_datetime(ec_data.DATE,format=\"%d-%m-%Y\")\n",
    "ec_data.DATE = ec_data.DATE.dt.strftime('%Y-%m')\n",
    "ec_data.set_index(ec_data.DATE,drop=True,inplace=True)\n",
    "ec_data.drop(columns={\"DATE\"},inplace=True)\n",
    "ec_data = ec_data[\"2003-01\":\"2023-12\"]\n",
    "ec_data.rename(columns={\"USCONS\":\"employees_construction\"},inplace=True)\n",
    "ec_data.to_csv(\"./cleaned_data/employees_construction.csv\")"
   ]
  },
  {
   "cell_type": "markdown",
   "id": "9e21a12f",
   "metadata": {},
   "source": [
    "#### GDP"
   ]
  },
  {
   "cell_type": "code",
   "execution_count": 169,
   "id": "04066ad8",
   "metadata": {},
   "outputs": [],
   "source": [
    "gdp_data = pd.read_csv(\"./datas/GDP.csv\")\n",
    "gdp_data.DATE = pd.to_datetime(gdp_data.DATE,format=\"%d-%m-%Y\")\n",
    "gdp_data.DATE = gdp_data.DATE.dt.strftime('%Y-%m')\n",
    "gdp_data.set_index(gdp_data.DATE,drop=True,inplace=True)\n",
    "gdp_data.drop(columns={\"DATE\"},inplace=True)\n",
    "gdp_data = gdp_data[\"2003-01\":\"2023-12\"]\n",
    "gdp_data = quaterly_monthly(gdp_data.GDP,monthly_rng)\n",
    "gdp_data.rename(columns = {0:\"GDP\"},inplace=True)\n",
    "gdp_data.index = gdp_data.index.strftime(\"%Y-%m\")\n",
    "gdp_data.to_csv(\"./cleaned_data/GDP.csv\")"
   ]
  },
  {
   "cell_type": "markdown",
   "id": "fbc31dc8",
   "metadata": {},
   "source": [
    "#### House for sale to house sold"
   ]
  },
  {
   "cell_type": "code",
   "execution_count": 82,
   "id": "1a65dc9f",
   "metadata": {},
   "outputs": [],
   "source": [
    "hs_data = pd.read_csv(\"./datas/House for sale .csv\")\n",
    "hs_data[\"DATE\"] = pd.to_datetime(hs_data.DATE,format=\"%d-%m-%Y\")\n",
    "hs_data.DATE = hs_data.DATE.dt.strftime('%Y-%m')\n",
    "hs_data.set_index(hs_data.DATE,drop=True,inplace=True)\n",
    "hs_data.drop(columns={\"DATE\"},inplace=True)\n",
    "hs_data = hs_data[\"2003-01\":\"2023-12\"]\n",
    "hs_data.rename(columns={\"MSACSR\":\"houses-for-sale-to-sold\"},inplace=True)\n",
    "hs_data.to_csv(\"./cleaned_data/houses_for_sale_to_houses_sold.csv\")"
   ]
  },
  {
   "cell_type": "markdown",
   "id": "db5fe602",
   "metadata": {},
   "source": [
    "#### New privately owned housing under construction "
   ]
  },
  {
   "cell_type": "code",
   "execution_count": 87,
   "id": "27f7d9e4",
   "metadata": {},
   "outputs": [],
   "source": [
    "phc_data = pd.read_csv(\"./datas/new_privately_owned_housing_under_construction.csv\")\n",
    "phc_data.DATE = pd.to_datetime(phc_data.DATE,format=\"%d-%m-%Y\")\n",
    "phc_data.set_index(\"DATE\",inplace=True)\n",
    "phc_data.index = phc_data.index.strftime(\"%Y-%m\")\n",
    "phc_data = phc_data[\"2003-01\":\"2023-12\"]\n",
    "phc_data.rename(columns={\"UNDCONTSA\":\"pvt_owned_house_under_const\"},inplace=True)\n",
    "phc_data.to_csv(\"./cleaned_data/new_privately_owned_housing_under_construction.csv\")\n"
   ]
  },
  {
   "cell_type": "markdown",
   "id": "7d586560",
   "metadata": {},
   "source": [
    "#### Mortgage"
   ]
  },
  {
   "cell_type": "code",
   "execution_count": 194,
   "id": "07e6910b",
   "metadata": {},
   "outputs": [],
   "source": [
    "m_data = pd.read_csv(\"./datas/Mortgage.csv\")\n",
    "m_data.DATE = pd.to_datetime(m_data.DATE,format=\"%Y-%m-%d\")\n",
    "m_data.set_index(\"DATE\",inplace=True)\n",
    "m_data = m_data.resample(\"M\").mean()\n",
    "m_data.index = m_data.index.strftime(\"%Y-%m\")\n",
    "m_data = m_data[\"2003-01\":\"2022-12\"]\n",
    "m_data.to_csv(\"./cleaned_data/MORTGAGE30US.csv\")"
   ]
  },
  {
   "cell_type": "markdown",
   "id": "e33d4280",
   "metadata": {},
   "source": [
    "#### Personal Savings Rate "
   ]
  },
  {
   "cell_type": "code",
   "execution_count": null,
   "id": "1cb4379a",
   "metadata": {},
   "outputs": [],
   "source": [
    "psr_data = pd.read_csv(\"../data/personal saving rate.csv\")\n",
    "psr_data.DATE = pd.to_datetime(psr_data.DATE,format=\"%d-%m-%Y\")\n",
    "psr_data.DATE = psr_data.DATE.dt.strftime('%Y-%m')\n",
    "psr_data.set_index(psr_data.DATE,inplace=True)\n",
    "psr_data.drop(columns={\"DATE\"},inplace=True)\n",
    "psr_data.rename(columns={\"PSAVERT\":\"personal_saving_rate\"},inplace=True)\n",
    "psr_data = psr_data[\"2003-01\":\"2023-12\"]\n",
    "\n",
    "psr_data.to_csv(\"../data_cleaned/personal saving rate.csv\")\n",
    "psr_data"
   ]
  },
  {
   "cell_type": "markdown",
   "id": "6d0ea48a",
   "metadata": {},
   "source": [
    "#### Privately owned housing units completed"
   ]
  },
  {
   "cell_type": "code",
   "execution_count": 95,
   "id": "ba107601",
   "metadata": {},
   "outputs": [],
   "source": [
    "poh_data = pd.read_csv(\"./datas/privately_owned_housing_units_completed.csv\")\n",
    "poh_data.DATE = pd.to_datetime(poh_data.DATE,format=\"%Y-%m-%d\")\n",
    "poh_data.DATE = poh_data.DATE.dt.strftime('%Y-%m')\n",
    "poh_data.set_index(poh_data.DATE,inplace=True)\n",
    "poh_data = poh_data[\"2003-01\":\"2023-12\"]\n",
    "poh_data.rename(columns = {\"COMPUTSA\":\"house_units_completed\"},inplace=True)\n",
    "poh_data.drop(columns={\"DATE\"},inplace=True)\n",
    "poh_data.to_csv(\"./cleaned_data/privately_owned_housing_units_completed.csv\")"
   ]
  },
  {
   "cell_type": "markdown",
   "id": "27c69a6d",
   "metadata": {},
   "source": [
    "#### Industrial revolution "
   ]
  },
  {
   "cell_type": "code",
   "execution_count": 99,
   "id": "f8a02948",
   "metadata": {},
   "outputs": [],
   "source": [
    "ir_data = pd.read_csv(\"./datas/Industrial production.csv\")\n",
    "ir_data.DATE = pd.to_datetime(ir_data.DATE,format=\"%d-%m-%Y\")\n",
    "ir_data.DATE = ir_data.DATE.dt.strftime('%Y-%m')\n",
    "ir_data.set_index(ir_data.DATE,inplace=True)\n",
    "ir_data = ir_data[\"2003-01\":\"2023-12\"]\n",
    "ir_data.rename(columns = {\"INDPRO\":\"industrial_production\"},inplace=True)\n",
    "ir_data.drop(columns={\"DATE\"},inplace=True)\n",
    "ir_data.to_csv(\"./cleaned_data/industrial_production.csv\")"
   ]
  },
  {
   "cell_type": "markdown",
   "id": "29d354ce",
   "metadata": {},
   "source": [
    "#### Unemployment rate"
   ]
  },
  {
   "cell_type": "code",
   "execution_count": 108,
   "id": "13512a13",
   "metadata": {},
   "outputs": [],
   "source": [
    "ur_data = pd.read_excel(\"./datas/Unemplyment rate.xlsx\")\n",
    "ur_data.DATE = pd.to_datetime(ur_data.DATE,format=\"%Y-%m-%d\")\n",
    "ur_data.DATE = ur_data.DATE.dt.strftime('%Y-%m')\n",
    "ur_data.set_index(ur_data.DATE,inplace=True)\n",
    "ur_data = ur_data[\"2003-01\":\"2023-12\"]\n",
    "ur_data.rename(columns = {\"MRTSSM442USS\":\"unrate\"},inplace=True)\n",
    "ur_data.drop(columns={\"DATE\"},inplace=True)\n",
    "ur_data.to_csv(\"./cleaned_data/Unemployment rate.csv\")"
   ]
  },
  {
   "cell_type": "markdown",
   "id": "a834387b",
   "metadata": {},
   "source": [
    "#### Unemployment rate construction "
   ]
  },
  {
   "cell_type": "code",
   "execution_count": 132,
   "id": "a3ec553b",
   "metadata": {
    "collapsed": true
   },
   "outputs": [
    {
     "data": {
      "text/html": [
       "<div>\n",
       "<style scoped>\n",
       "    .dataframe tbody tr th:only-of-type {\n",
       "        vertical-align: middle;\n",
       "    }\n",
       "\n",
       "    .dataframe tbody tr th {\n",
       "        vertical-align: top;\n",
       "    }\n",
       "\n",
       "    .dataframe thead th {\n",
       "        text-align: right;\n",
       "    }\n",
       "</style>\n",
       "<table border=\"1\" class=\"dataframe\">\n",
       "  <thead>\n",
       "    <tr style=\"text-align: right;\">\n",
       "      <th></th>\n",
       "      <th>unrate_construction</th>\n",
       "    </tr>\n",
       "    <tr>\n",
       "      <th>DATE</th>\n",
       "      <th></th>\n",
       "    </tr>\n",
       "  </thead>\n",
       "  <tbody>\n",
       "    <tr>\n",
       "      <th>2003-01</th>\n",
       "      <td>14.0</td>\n",
       "    </tr>\n",
       "    <tr>\n",
       "      <th>2003-02</th>\n",
       "      <td>14.0</td>\n",
       "    </tr>\n",
       "    <tr>\n",
       "      <th>2003-03</th>\n",
       "      <td>11.8</td>\n",
       "    </tr>\n",
       "    <tr>\n",
       "      <th>2003-04</th>\n",
       "      <td>9.3</td>\n",
       "    </tr>\n",
       "    <tr>\n",
       "      <th>2003-05</th>\n",
       "      <td>8.4</td>\n",
       "    </tr>\n",
       "    <tr>\n",
       "      <th>...</th>\n",
       "      <td>...</td>\n",
       "    </tr>\n",
       "    <tr>\n",
       "      <th>2023-06</th>\n",
       "      <td>3.6</td>\n",
       "    </tr>\n",
       "    <tr>\n",
       "      <th>2023-07</th>\n",
       "      <td>3.9</td>\n",
       "    </tr>\n",
       "    <tr>\n",
       "      <th>2023-08</th>\n",
       "      <td>3.9</td>\n",
       "    </tr>\n",
       "    <tr>\n",
       "      <th>2023-09</th>\n",
       "      <td>3.8</td>\n",
       "    </tr>\n",
       "    <tr>\n",
       "      <th>2023-10</th>\n",
       "      <td>4.0</td>\n",
       "    </tr>\n",
       "  </tbody>\n",
       "</table>\n",
       "<p>250 rows × 1 columns</p>\n",
       "</div>"
      ],
      "text/plain": [
       "         unrate_construction\n",
       "DATE                        \n",
       "2003-01                 14.0\n",
       "2003-02                 14.0\n",
       "2003-03                 11.8\n",
       "2003-04                  9.3\n",
       "2003-05                  8.4\n",
       "...                      ...\n",
       "2023-06                  3.6\n",
       "2023-07                  3.9\n",
       "2023-08                  3.9\n",
       "2023-09                  3.8\n",
       "2023-10                  4.0\n",
       "\n",
       "[250 rows x 1 columns]"
      ]
     },
     "execution_count": 132,
     "metadata": {},
     "output_type": "execute_result"
    }
   ],
   "source": [
    "urc_data = pd.read_csv(\"./datas/Unemployment rate Construction .csv\")\n",
    "urc_data.DATE = pd.to_datetime(urc_data.DATE,format=\"%d-%m-%Y\")\n",
    "urc_data.DATE = urc_data.DATE.dt.strftime('%Y-%m')\n",
    "urc_data.set_index(urc_data.DATE,inplace=True)\n",
    "urc_data = urc_data[\"2003-01\":\"2023-12\"]\n",
    "urc_data.rename(columns = {\"LNU04032231\":\"unrate_construction\"},inplace=True)\n",
    "urc_data.drop(columns={\"DATE\"},inplace=True)\n",
    "urc_data.to_csv(\"./cleaned_data/unrate_construction.csv\")"
   ]
  },
  {
   "cell_type": "markdown",
   "id": "c56eb1f0",
   "metadata": {},
   "source": [
    "#### Producer Price Index Concrete Brick"
   ]
  },
  {
   "cell_type": "code",
   "execution_count": 134,
   "id": "0afd4239",
   "metadata": {},
   "outputs": [],
   "source": [
    "ppi_data = pd.read_csv(\"./datas/producer_price_index_concrete_brick.csv\")\n",
    "ppi_data.DATE = pd.to_datetime(ppi_data.DATE,format=\"%Y-%m-%d\")\n",
    "ppi_data.DATE = ppi_data.DATE.dt.strftime('%Y-%m')\n",
    "ppi_data.set_index(ppi_data.DATE,inplace=True)\n",
    "ppi_data = ppi_data[\"2003-01\":\"2023-12\"]\n",
    "ppi_data.rename(columns = {\"PCU32733132733106\":\"producer_price\"},inplace=True)\n",
    "ppi_data.drop(columns={\"DATE\"},inplace=True)\n",
    "ppi_data.to_csv(\"./cleaned_data/producer_price_index_concrete_brick.csv\")"
   ]
  },
  {
   "cell_type": "markdown",
   "id": "0f801938",
   "metadata": {},
   "source": [
    "#### Population Quarterly "
   ]
  },
  {
   "cell_type": "code",
   "execution_count": 35,
   "id": "e6b4d526",
   "metadata": {},
   "outputs": [],
   "source": [
    "p_data = pd.read_csv(\"./datas/Population_quarterly.csv\")\n",
    "p_data.DATE = pd.to_datetime(p_data.DATE,format=\"%d-%m-%Y\")\n",
    "p_data.DATE = p_data.DATE.dt.strftime('%Y-%m')\n",
    "p_data.set_index(p_data.DATE,inplace=True)\n",
    "p_data = quaterly_monthly(p_data[\"B230RC0Q173SBEA\"],monthly_rng)\n",
    "p_data.rename(columns = {0:\"population\"},inplace=True)\n",
    "p_data.index = p_data.index.strftime(\"%Y-%m\")\n",
    "p_data.to_csv(\"./cleaned_data/Population.csv\")"
   ]
  },
  {
   "cell_type": "code",
   "execution_count": null,
   "id": "b2009062",
   "metadata": {},
   "outputs": [],
   "source": []
  },
  {
   "cell_type": "code",
   "execution_count": null,
   "id": "885e1e5a",
   "metadata": {},
   "outputs": [],
   "source": []
  }
 ],
 "metadata": {
  "kernelspec": {
   "display_name": "Python 3 (ipykernel)",
   "language": "python",
   "name": "python3"
  },
  "language_info": {
   "codemirror_mode": {
    "name": "ipython",
    "version": 3
   },
   "file_extension": ".py",
   "mimetype": "text/x-python",
   "name": "python",
   "nbconvert_exporter": "python",
   "pygments_lexer": "ipython3",
   "version": "3.11.1"
  }
 },
 "nbformat": 4,
 "nbformat_minor": 5
}
